{
 "cells": [
  {
   "cell_type": "markdown",
   "metadata": {
    "colab_type": "text",
    "id": "jPyDpDqvZuLo"
   },
   "source": [
    "# Hands On PySpark\n",
    "\n",
    "Notebook provided un the <a href=https://www.coursera.org/projects/data-analysis-using-pyspark>Data Analysis Using Pyspark<a> Guided Project in Coursera."
   ]
  },
  {
   "cell_type": "markdown",
   "metadata": {
    "colab_type": "text",
    "id": "cs9EInKyWicZ"
   },
   "source": [
    "# Task 1 :"
   ]
  },
  {
   "cell_type": "markdown",
   "metadata": {
    "colab_type": "text",
    "id": "dVNAlw2jWiWb"
   },
   "source": [
    "Importing the modules "
   ]
  },
  {
   "cell_type": "code",
   "execution_count": 63,
   "metadata": {
    "colab": {},
    "colab_type": "code",
    "id": "gS3YIWJiW7I3"
   },
   "outputs": [],
   "source": [
    "from pyspark import SparkConf, SparkContext\n",
    "from pyspark.sql import SparkSession\n",
    "from pyspark.sql.functions import count, desc , col, max, struct\n",
    "import matplotlib.pyplot as plt"
   ]
  },
  {
   "cell_type": "markdown",
   "metadata": {
    "colab_type": "text",
    "id": "RKuIUYLwSkNP"
   },
   "source": [
    "creating spark session"
   ]
  },
  {
   "cell_type": "code",
   "execution_count": 11,
   "metadata": {
    "cellView": "both",
    "colab": {},
    "colab_type": "code",
    "id": "XXSZBvRgSnCN"
   },
   "outputs": [],
   "source": [
    "spark = SparkSession.builder.appName(\"spark_app\").getOrCreate()"
   ]
  },
  {
   "cell_type": "markdown",
   "metadata": {
    "colab_type": "text",
    "id": "vv_SKqr8T9mT"
   },
   "source": [
    "# Task 2 : \n",
    "importing the *Listenings.csv* file: "
   ]
  },
  {
   "cell_type": "code",
   "execution_count": 12,
   "metadata": {
    "colab": {},
    "colab_type": "code",
    "id": "gK22lJDRTuKY"
   },
   "outputs": [],
   "source": [
    "listening_csv_path = './Data/listenings.csv'\n",
    "listening_df = spark.read.format('csv').option('inferSchema', True).option('header', True).load(listening_csv_path)"
   ]
  },
  {
   "cell_type": "markdown",
   "metadata": {
    "colab_type": "text",
    "id": "s1i6KVshykdn"
   },
   "source": [
    "let's check the data:"
   ]
  },
  {
   "cell_type": "code",
   "execution_count": 13,
   "metadata": {
    "colab": {},
    "colab_type": "code",
    "id": "5Ji0zViUyjUE"
   },
   "outputs": [
    {
     "name": "stdout",
     "output_type": "stream",
     "text": [
      "+-----------+-------------+--------------------+---------------+--------------------+\n",
      "|    user_id|         date|               track|         artist|               album|\n",
      "+-----------+-------------+--------------------+---------------+--------------------+\n",
      "|000Silenced|1299680100000|           Price Tag|       Jessie J|         Who You Are|\n",
      "|000Silenced|1299679920000|Price Tag (Acoust...|       Jessie J|           Price Tag|\n",
      "|000Silenced|1299679440000|Be Mine! (Ballad ...|          Robyn|            Be Mine!|\n",
      "|000Silenced|1299679200000|            Acapella|          Kelis|            Acapella|\n",
      "|000Silenced|1299675660000|   I'm Not Invisible|      The Tease|   I'm Not Invisible|\n",
      "|000Silenced|1297511400000|Bounce (Feat NORE...|       MSTRKRFT|         Fist of God|\n",
      "|000Silenced|1294498440000|Don't Stop The Mu...|        Rihanna|Addicted 2 Bassli...|\n",
      "|000Silenced|1292438340000|               ObZen|      Meshuggah|               ObZen|\n",
      "|000Silenced|1292437740000|   Yama's Messengers|         Gojira|The Way of All Flesh|\n",
      "|000Silenced|1292436360000|On the Brink of E...|   Napalm Death|Time Waits For No...|\n",
      "|000Silenced|1292436360000|On the Brink of E...|   Napalm Death|Time Waits For No...|\n",
      "|000Silenced|1292435940000|        In Deference|   Napalm Death|      Smear Campaign|\n",
      "|000Silenced|1292434920000|      Post(?)organic|    Decapitated|Organic Hallucinosis|\n",
      "|000Silenced|1292434560000|        Mind Feeders|   Dom & Roland| No Strings Attached|\n",
      "|000Silenced|1292434320000|Necrosadistic War...|Cannibal Corpse|                Kill|\n",
      "|000Silenced|1292365560000|     Dance All Night|   Dom & Roland|          Chronology|\n",
      "|000Silenced|1292365260000|          Late Night|   Dom & Roland|          Chronology|\n",
      "|000Silenced|1292365020000|          Freak Seen|   Dom & Roland|          Chronology|\n",
      "|000Silenced|1292364720000|Paradrenasite (Hi...|   Dom & Roland|          Chronology|\n",
      "|000Silenced|1292364300000|               Rhino|   Dom & Roland|          Chronology|\n",
      "+-----------+-------------+--------------------+---------------+--------------------+\n",
      "only showing top 20 rows\n",
      "\n"
     ]
    }
   ],
   "source": [
    "listening_df.show()"
   ]
  },
  {
   "cell_type": "markdown",
   "metadata": {
    "colab_type": "text",
    "id": "HS6wd2d_woNC"
   },
   "source": [
    "let's delete useless columns:"
   ]
  },
  {
   "cell_type": "code",
   "execution_count": 14,
   "metadata": {
    "colab": {},
    "colab_type": "code",
    "id": "pIMzBAglwtNP"
   },
   "outputs": [],
   "source": [
    "listening_df = listening_df.drop('date')"
   ]
  },
  {
   "cell_type": "markdown",
   "metadata": {
    "colab_type": "text",
    "id": "MwpJJeWa4qmn"
   },
   "source": [
    "drop the null rows:"
   ]
  },
  {
   "cell_type": "code",
   "execution_count": 15,
   "metadata": {
    "colab": {},
    "colab_type": "code",
    "id": "Botf6-Vb4uqs"
   },
   "outputs": [],
   "source": [
    "listening_df = listening_df.na.drop()"
   ]
  },
  {
   "cell_type": "markdown",
   "metadata": {
    "colab_type": "text",
    "id": "tTN6jr3K4xkF"
   },
   "source": [
    "let's check the dataset again:"
   ]
  },
  {
   "cell_type": "code",
   "execution_count": 16,
   "metadata": {
    "colab": {},
    "colab_type": "code",
    "id": "JDp_rdEY40u3"
   },
   "outputs": [
    {
     "name": "stdout",
     "output_type": "stream",
     "text": [
      "+-----------+--------------------+---------------+--------------------+\n",
      "|    user_id|               track|         artist|               album|\n",
      "+-----------+--------------------+---------------+--------------------+\n",
      "|000Silenced|           Price Tag|       Jessie J|         Who You Are|\n",
      "|000Silenced|Price Tag (Acoust...|       Jessie J|           Price Tag|\n",
      "|000Silenced|Be Mine! (Ballad ...|          Robyn|            Be Mine!|\n",
      "|000Silenced|            Acapella|          Kelis|            Acapella|\n",
      "|000Silenced|   I'm Not Invisible|      The Tease|   I'm Not Invisible|\n",
      "|000Silenced|Bounce (Feat NORE...|       MSTRKRFT|         Fist of God|\n",
      "|000Silenced|Don't Stop The Mu...|        Rihanna|Addicted 2 Bassli...|\n",
      "|000Silenced|               ObZen|      Meshuggah|               ObZen|\n",
      "|000Silenced|   Yama's Messengers|         Gojira|The Way of All Flesh|\n",
      "|000Silenced|On the Brink of E...|   Napalm Death|Time Waits For No...|\n",
      "|000Silenced|On the Brink of E...|   Napalm Death|Time Waits For No...|\n",
      "|000Silenced|        In Deference|   Napalm Death|      Smear Campaign|\n",
      "|000Silenced|      Post(?)organic|    Decapitated|Organic Hallucinosis|\n",
      "|000Silenced|        Mind Feeders|   Dom & Roland| No Strings Attached|\n",
      "|000Silenced|Necrosadistic War...|Cannibal Corpse|                Kill|\n",
      "|000Silenced|     Dance All Night|   Dom & Roland|          Chronology|\n",
      "|000Silenced|          Late Night|   Dom & Roland|          Chronology|\n",
      "|000Silenced|          Freak Seen|   Dom & Roland|          Chronology|\n",
      "|000Silenced|Paradrenasite (Hi...|   Dom & Roland|          Chronology|\n",
      "|000Silenced|               Rhino|   Dom & Roland|          Chronology|\n",
      "+-----------+--------------------+---------------+--------------------+\n",
      "only showing top 20 rows\n",
      "\n"
     ]
    }
   ],
   "source": [
    "listening_df.show()"
   ]
  },
  {
   "cell_type": "markdown",
   "metadata": {
    "colab_type": "text",
    "id": "Z7nKCYoZltnv"
   },
   "source": [
    "let's see the schema: "
   ]
  },
  {
   "cell_type": "code",
   "execution_count": 17,
   "metadata": {
    "colab": {},
    "colab_type": "code",
    "id": "qVg1jt1OyWdh"
   },
   "outputs": [
    {
     "name": "stdout",
     "output_type": "stream",
     "text": [
      "root\n",
      " |-- user_id: string (nullable = true)\n",
      " |-- track: string (nullable = true)\n",
      " |-- artist: string (nullable = true)\n",
      " |-- album: string (nullable = true)\n",
      "\n"
     ]
    }
   ],
   "source": [
    "listening_df.printSchema()"
   ]
  },
  {
   "cell_type": "markdown",
   "metadata": {
    "colab_type": "text",
    "id": "JMkQsQt2xSb5"
   },
   "source": [
    "let's see the shape of our dataframe: "
   ]
  },
  {
   "cell_type": "code",
   "execution_count": 18,
   "metadata": {
    "colab": {},
    "colab_type": "code",
    "id": "6POkV3YFmh6b"
   },
   "outputs": [
    {
     "name": "stdout",
     "output_type": "stream",
     "text": [
      "(13758905, 4)\n"
     ]
    }
   ],
   "source": [
    "shape = listening_df.count() , len(listening_df.columns)\n",
    "print(shape)"
   ]
  },
  {
   "cell_type": "markdown",
   "metadata": {
    "colab_type": "text",
    "id": "XMD0DhFl2FEJ"
   },
   "source": [
    "# Task 3:\n",
    "\n",
    "**Query #0:**\n",
    "select two columns: track and artist"
   ]
  },
  {
   "cell_type": "code",
   "execution_count": 20,
   "metadata": {
    "colab": {},
    "colab_type": "code",
    "id": "FZTdA5wn2TZy"
   },
   "outputs": [
    {
     "name": "stdout",
     "output_type": "stream",
     "text": [
      "+---------------+--------------------+\n",
      "|         artist|               track|\n",
      "+---------------+--------------------+\n",
      "|       Jessie J|           Price Tag|\n",
      "|       Jessie J|Price Tag (Acoust...|\n",
      "|          Robyn|Be Mine! (Ballad ...|\n",
      "|          Kelis|            Acapella|\n",
      "|      The Tease|   I'm Not Invisible|\n",
      "|       MSTRKRFT|Bounce (Feat NORE...|\n",
      "|        Rihanna|Don't Stop The Mu...|\n",
      "|      Meshuggah|               ObZen|\n",
      "|         Gojira|   Yama's Messengers|\n",
      "|   Napalm Death|On the Brink of E...|\n",
      "|   Napalm Death|On the Brink of E...|\n",
      "|   Napalm Death|        In Deference|\n",
      "|    Decapitated|      Post(?)organic|\n",
      "|   Dom & Roland|        Mind Feeders|\n",
      "|Cannibal Corpse|Necrosadistic War...|\n",
      "|   Dom & Roland|     Dance All Night|\n",
      "|   Dom & Roland|          Late Night|\n",
      "|   Dom & Roland|          Freak Seen|\n",
      "|   Dom & Roland|Paradrenasite (Hi...|\n",
      "|   Dom & Roland|               Rhino|\n",
      "+---------------+--------------------+\n",
      "only showing top 20 rows\n",
      "\n"
     ]
    }
   ],
   "source": [
    "q0 = listening_df.select('artist', 'track')\n",
    "q0.show()"
   ]
  },
  {
   "cell_type": "markdown",
   "metadata": {
    "colab_type": "text",
    "id": "QRcgXOFs2hjw"
   },
   "source": [
    "**Query #1**:\n",
    "\n",
    "Let's find all of the records of those users who have listened to ***Rihanna***"
   ]
  },
  {
   "cell_type": "code",
   "execution_count": 24,
   "metadata": {
    "colab": {},
    "colab_type": "code",
    "id": "ICyiTMVnppLw"
   },
   "outputs": [
    {
     "name": "stdout",
     "output_type": "stream",
     "text": [
      "+-----------+--------------------+-------+--------------------+\n",
      "|    user_id|               track| artist|               album|\n",
      "+-----------+--------------------+-------+--------------------+\n",
      "|000Silenced|Don't Stop The Mu...|Rihanna|Addicted 2 Bassli...|\n",
      "|000Silenced|           Disturbia|Rihanna|Good Girl Gone Ba...|\n",
      "|00williamsl|   Hatin On The Club|Rihanna|              Random|\n",
      "|00williamsl|   Hatin On The Club|Rihanna|              Random|\n",
      "|00williamsl|         Complicated|Rihanna|                Loud|\n",
      "|00williamsl|What's My Name (f...|Rihanna|                Loud|\n",
      "|00williamsl|Kanye West feat R...|Rihanna|                Loud|\n",
      "|    0502008|Only Girl (In the...|Rihanna|                Loud|\n",
      "|      0rdos|Pon De Replay (Re...|Rihanna|    Music of the Sun|\n",
      "|      0rdos|          Now I Know|Rihanna|    Music of the Sun|\n",
      "|      0rdos|There's a Thug in...|Rihanna|    Music of the Sun|\n",
      "|      0rdos|                Rush|Rihanna|    Music of the Sun|\n",
      "|      0rdos|              Let Me|Rihanna|    Music of the Sun|\n",
      "|      0rdos|    Music of the Sun|Rihanna|    Music of the Sun|\n",
      "|      0rdos|     Willing to Wait|Rihanna|    Music of the Sun|\n",
      "|      0rdos|       The Last Time|Rihanna|    Music of the Sun|\n",
      "|      0rdos|If It's Lovin' Th...|Rihanna|    Music of the Sun|\n",
      "|      0rdos|     Here I Go Again|Rihanna|    Music of the Sun|\n",
      "|      0rdos|       Pon de Replay|Rihanna|    Music of the Sun|\n",
      "|      0rdos|                 Cry|Rihanna|  Good Girl Gone Bad|\n",
      "+-----------+--------------------+-------+--------------------+\n",
      "only showing top 20 rows\n",
      "\n"
     ]
    }
   ],
   "source": [
    "q1 = listening_df.select('*').filter(listening_df.artist == 'Rihanna')\n",
    "q1.show()"
   ]
  },
  {
   "cell_type": "markdown",
   "metadata": {
    "colab_type": "text",
    "id": "I0IafeyvFU9O"
   },
   "source": [
    "**Query #2:**\n",
    "\n",
    "Let's find top 10 users who are fan of ***Rihanna***"
   ]
  },
  {
   "cell_type": "code",
   "execution_count": 29,
   "metadata": {
    "colab": {},
    "colab_type": "code",
    "id": "3-hM9kMm7JmI"
   },
   "outputs": [
    {
     "name": "stdout",
     "output_type": "stream",
     "text": [
      "+---------------+-----+\n",
      "|        user_id|count|\n",
      "+---------------+-----+\n",
      "|        thiessu|  179|\n",
      "|    eyessetkyle|  166|\n",
      "|           adxx|  164|\n",
      "|missnumberthree|  156|\n",
      "|helloiamnatalie|  128|\n",
      "|          nmjnb|  124|\n",
      "|        AndyyyA|  123|\n",
      "|     BIGBANG186|  121|\n",
      "|     mixedvibes|  120|\n",
      "|       AndyKitt|  115|\n",
      "+---------------+-----+\n",
      "\n"
     ]
    }
   ],
   "source": [
    "q2 = listening_df.select('user_id').filter(listening_df.artist == 'Rihanna').groupby('user_id').agg(count('user_id').alias('count')).orderBy(desc('count')).limit(10)\n",
    "q2.show()"
   ]
  },
  {
   "cell_type": "markdown",
   "metadata": {
    "colab_type": "text",
    "id": "hgAAl6aAcp41"
   },
   "source": [
    "**Query #3:**\n",
    "\n",
    "find top 10 famous tracks "
   ]
  },
  {
   "cell_type": "code",
   "execution_count": 32,
   "metadata": {
    "colab": {},
    "colab_type": "code",
    "id": "qlh3IUzfJ3_I"
   },
   "outputs": [
    {
     "name": "stdout",
     "output_type": "stream",
     "text": [
      "+-------+-----+\n",
      "|  track|count|\n",
      "+-------+-----+\n",
      "|  Intro|13176|\n",
      "|   Home| 7576|\n",
      "|  Hello| 6961|\n",
      "|Hold On| 5857|\n",
      "|   Work| 4889|\n",
      "|  Sorry| 4824|\n",
      "|   Baby| 4646|\n",
      "|Runaway| 4429|\n",
      "| Closer| 4287|\n",
      "|   Fire| 4141|\n",
      "+-------+-----+\n",
      "\n"
     ]
    }
   ],
   "source": [
    "q3 = listening_df.select('track').groupby('track').agg(count('track').alias('count')).orderBy(desc('count')).limit(10)\n",
    "q3.show()"
   ]
  },
  {
   "cell_type": "markdown",
   "metadata": {
    "colab_type": "text",
    "id": "HqhPhQvjeXt0"
   },
   "source": [
    "**Query #4:**\n",
    "\n",
    "find top 10 famous tracks of ***Rihanna*** "
   ]
  },
  {
   "cell_type": "code",
   "execution_count": 33,
   "metadata": {
    "colab": {},
    "colab_type": "code",
    "id": "D_npmdh1ec8y"
   },
   "outputs": [
    {
     "name": "stdout",
     "output_type": "stream",
     "text": [
      "+--------------------+-----+\n",
      "|               track|count|\n",
      "+--------------------+-----+\n",
      "|                Work| 2646|\n",
      "|Only Girl (In the...| 1749|\n",
      "|We Found Love (fe...| 1575|\n",
      "|                 S&M| 1307|\n",
      "|            Rude Boy| 1303|\n",
      "|            Diamonds| 1224|\n",
      "|      Kiss it Better|  945|\n",
      "| Where Have You Been|  844|\n",
      "|Cheers (Drink to ...|  697|\n",
      "|           Desperado|  679|\n",
      "+--------------------+-----+\n",
      "\n"
     ]
    }
   ],
   "source": [
    "q4 = listening_df.select('track').filter(listening_df.artist == 'Rihanna').groupby('track').agg(count('track').alias('count')).orderBy(desc('count')).limit(10)\n",
    "q4.show()"
   ]
  },
  {
   "cell_type": "markdown",
   "metadata": {
    "colab_type": "text",
    "id": "E6pgcH0p1ZXo"
   },
   "source": [
    "**Query #5:**\n",
    "\n",
    "find top 10 famous albums "
   ]
  },
  {
   "cell_type": "code",
   "execution_count": 34,
   "metadata": {
    "colab": {},
    "colab_type": "code",
    "id": "c5YHm6yKenE7"
   },
   "outputs": [
    {
     "name": "stdout",
     "output_type": "stream",
     "text": [
      "+--------------------+-----+\n",
      "|               album|count|\n",
      "+--------------------+-----+\n",
      "|       Greatest Hits|67892|\n",
      "|   The Life Of Pablo|22311|\n",
      "|                  AM|14264|\n",
      "|                  xx|14198|\n",
      "|     An Awesome Wave|13673|\n",
      "|        Sigh No More|13556|\n",
      "|Whatever People S...|12731|\n",
      "|            For Emma|11995|\n",
      "|          Art Angels|11694|\n",
      "|                  21|11576|\n",
      "+--------------------+-----+\n",
      "\n"
     ]
    }
   ],
   "source": [
    "q5 = listening_df.select('album').groupby('album').agg(count('album').alias('count')).orderBy(desc('count')).limit(10)\n",
    "q5.show()"
   ]
  },
  {
   "cell_type": "markdown",
   "metadata": {
    "colab_type": "text",
    "id": "YXev8HQ57bdq"
   },
   "source": [
    "# Task 4 :\n",
    "importing the ***genre.csv*** file:"
   ]
  },
  {
   "cell_type": "code",
   "execution_count": 35,
   "metadata": {
    "colab": {},
    "colab_type": "code",
    "id": "tpXSrYfu14PB"
   },
   "outputs": [],
   "source": [
    "genre_df_path = './Data/genre.csv'\n",
    "genre_df = spark.read.format('csv').option('inferSchema', True).option('header', True).load(genre_df_path)"
   ]
  },
  {
   "cell_type": "markdown",
   "metadata": {
    "colab_type": "text",
    "id": "aCHSo36W9RcP"
   },
   "source": [
    "let's check the data"
   ]
  },
  {
   "cell_type": "code",
   "execution_count": 40,
   "metadata": {
    "colab": {},
    "colab_type": "code",
    "id": "LJu4Ouz89O6_"
   },
   "outputs": [
    {
     "name": "stdout",
     "output_type": "stream",
     "text": [
      "+--------------------+-----+\n",
      "|              artist|genre|\n",
      "+--------------------+-----+\n",
      "|                Muse| rock|\n",
      "|             Nirvana| rock|\n",
      "|            Bon Jovi| rock|\n",
      "|          The Police| rock|\n",
      "|                Kiss| rock|\n",
      "|       Guns N' Roses| rock|\n",
      "|         Rusted Root| rock|\n",
      "|Katrina and the W...|  pop|\n",
      "|         The Beatles| rock|\n",
      "|        Hall & Oates|  pop|\n",
      "|        Otis Redding| soul|\n",
      "|         Marvin Gaye| soul|\n",
      "|     The Cranberries| rock|\n",
      "|            Survivor| rock|\n",
      "|       Fleetwood Mac|blues|\n",
      "|           Radiohead| rock|\n",
      "|                Toto| rock|\n",
      "|                  U2| rock|\n",
      "|Creedence Clearwa...| rock|\n",
      "|                 REM| rock|\n",
      "+--------------------+-----+\n",
      "only showing top 20 rows\n",
      "\n"
     ]
    }
   ],
   "source": [
    "genre_df.show()"
   ]
  },
  {
   "cell_type": "markdown",
   "metadata": {
    "colab_type": "text",
    "id": "72OpWX7F98qg"
   },
   "source": [
    "Let's inner join these two data frames"
   ]
  },
  {
   "cell_type": "code",
   "execution_count": 51,
   "metadata": {},
   "outputs": [],
   "source": [
    "inner = listening_df.join(genre_df, how='inner', on=listening_df.artist == genre_df.artist)"
   ]
  },
  {
   "cell_type": "markdown",
   "metadata": {
    "colab_type": "text",
    "id": "yM_f5qILBNeI"
   },
   "source": [
    "**Query #6**\n",
    "\n",
    "find top 10 users who are fan of ***pop*** music"
   ]
  },
  {
   "cell_type": "code",
   "execution_count": 52,
   "metadata": {
    "colab": {},
    "colab_type": "code",
    "id": "dognQVlxBi2n"
   },
   "outputs": [
    {
     "name": "stdout",
     "output_type": "stream",
     "text": [
      "+---------------+-----+\n",
      "|        user_id|count|\n",
      "+---------------+-----+\n",
      "|        01Green|  496|\n",
      "|      momousagi|  400|\n",
      "|          mrpsb|  400|\n",
      "|   BlueKnockOut|  378|\n",
      "|    musicboy80s|  376|\n",
      "|  incultojurgis|  374|\n",
      "| ElektricOrchid|  370|\n",
      "|foreign_fanatic|  350|\n",
      "|   Kevin_Soutar|  346|\n",
      "|  landrover2171|  301|\n",
      "+---------------+-----+\n",
      "\n"
     ]
    }
   ],
   "source": [
    "q6 = inner.select('user_id').filter(inner.genre == 'pop').groupby('user_id').agg(count('user_id').alias('count')).orderBy(desc('count')).limit(10)\n",
    "q6.show()"
   ]
  },
  {
   "cell_type": "markdown",
   "metadata": {
    "colab_type": "text",
    "id": "63quzy7t-zb7"
   },
   "source": [
    "**Query #7**\n",
    "\n",
    "find top 10 famous genres"
   ]
  },
  {
   "cell_type": "code",
   "execution_count": 53,
   "metadata": {
    "colab": {},
    "colab_type": "code",
    "id": "aDFcoPPk-Rhf"
   },
   "outputs": [
    {
     "name": "stdout",
     "output_type": "stream",
     "text": [
      "+----------+-----+\n",
      "|     genre|count|\n",
      "+----------+-----+\n",
      "|      rock| 9066|\n",
      "|       pop| 6960|\n",
      "|electronic| 4410|\n",
      "|      jazz| 4400|\n",
      "|   hip hop| 4288|\n",
      "|     house| 3310|\n",
      "|      folk| 3217|\n",
      "|     dance| 2894|\n",
      "|      punk| 2661|\n",
      "|soundtrack| 2360|\n",
      "+----------+-----+\n",
      "\n"
     ]
    }
   ],
   "source": [
    "q7 = genre_df.select('genre').groupby('genre').agg(count('genre').alias('count')).orderBy(desc('count')).limit(10)\n",
    "q7.show()"
   ]
  },
  {
   "cell_type": "markdown",
   "metadata": {
    "colab_type": "text",
    "id": "hrZOAWVgLMZo"
   },
   "source": [
    "# Task 5:\n",
    "**Query #8**\n",
    "\n",
    "find out each user favourite genre"
   ]
  },
  {
   "cell_type": "code",
   "execution_count": 59,
   "metadata": {
    "colab": {},
    "colab_type": "code",
    "id": "H3AWxlkbLvCg"
   },
   "outputs": [
    {
     "name": "stdout",
     "output_type": "stream",
     "text": [
      "+--------------+--------------------+-----+\n",
      "|       user_id|               genre|count|\n",
      "+--------------+--------------------+-----+\n",
      "|     mrsands91|                 r&b|  952|\n",
      "|     Benjiibop|                 r&b|  950|\n",
      "|     sbrooks91|                 r&b|  915|\n",
      "|       Pete557|                 r&b|  836|\n",
      "|      _Seichi_|                 r&b|  765|\n",
      "|     b00g13man| Associated Perfo...|  745|\n",
      "|       Kaigamo|                 r&b|  741|\n",
      "|   Kojobimpong|                jazz|  722|\n",
      "| dejectedxcore|            synthpop|  665|\n",
      "|   pussycatboi|                 r&b|  664|\n",
      "|       Munross| Associated Perfo...|  645|\n",
      "|     chazrules|                 r&b|  641|\n",
      "|     LizzieJoe|                jazz|  640|\n",
      "|lennyautomatik| Associated Perfo...|  625|\n",
      "|   NaomiWaters|                 r&b|  620|\n",
      "|   elizawright|                 r&b|  605|\n",
      "|        jhnhtt| Associated Perfo...|  600|\n",
      "|         oleuk|    Stephen Merchant|  600|\n",
      "|    dragula100|                rock|  599|\n",
      "|  WarrenPearce|                 r&b|  588|\n",
      "+--------------+--------------------+-----+\n",
      "only showing top 20 rows\n",
      "\n"
     ]
    }
   ],
   "source": [
    "q8_1 = inner.select('user_id', 'genre').groupby('user_id','genre').agg(count('user_id').alias('count')).orderBy(desc('count'))\n",
    "q8_1.show()"
   ]
  },
  {
   "cell_type": "code",
   "execution_count": 66,
   "metadata": {
    "colab": {},
    "colab_type": "code",
    "id": "Soy2bMxQN-Ub"
   },
   "outputs": [
    {
     "name": "stdout",
     "output_type": "stream",
     "text": [
      "+--------------+--------------------+\n",
      "|       user_id|                 max|\n",
      "+--------------+--------------------+\n",
      "|     mrsands91|          [952, r&b]|\n",
      "|     Benjiibop|          [950, r&b]|\n",
      "|     sbrooks91|          [915, r&b]|\n",
      "|       Pete557|          [836, r&b]|\n",
      "|      _Seichi_|          [765, r&b]|\n",
      "|     b00g13man|[745,  Associated...|\n",
      "|       Kaigamo|          [741, r&b]|\n",
      "|   Kojobimpong|         [722, jazz]|\n",
      "| dejectedxcore|     [665, synthpop]|\n",
      "|   pussycatboi|          [664, r&b]|\n",
      "|       Munross|[645,  Associated...|\n",
      "|     chazrules|          [641, r&b]|\n",
      "|     LizzieJoe|         [640, jazz]|\n",
      "|lennyautomatik|[625,  Associated...|\n",
      "|   NaomiWaters|          [620, r&b]|\n",
      "|   elizawright|          [605, r&b]|\n",
      "|         oleuk|[600,  Stephen Me...|\n",
      "|        jhnhtt|[600,  Associated...|\n",
      "|    dragula100|         [599, rock]|\n",
      "|  WarrenPearce|          [588, r&b]|\n",
      "+--------------+--------------------+\n",
      "only showing top 20 rows\n",
      "\n"
     ]
    }
   ],
   "source": [
    "q8_2 = q8_1.groupby('user_id').agg(max(struct(col('count'), col('genre'))).alias('max')).orderBy(desc('user_id'))\n",
    "q8_2.show()"
   ]
  },
  {
   "cell_type": "markdown",
   "metadata": {
    "colab_type": "text",
    "id": "6oIyhOHkCDuv"
   },
   "source": [
    "**Query #9**\n",
    "\n",
    "find out how many pop,rock,metal and hip hop singers we have and then visulize it using bar chart "
   ]
  },
  {
   "cell_type": "code",
   "execution_count": 69,
   "metadata": {},
   "outputs": [],
   "source": [
    "genres = ['pop', 'rock', 'metal', 'hip hop']"
   ]
  },
  {
   "cell_type": "code",
   "execution_count": 70,
   "metadata": {
    "colab": {},
    "colab_type": "code",
    "id": "7_lEjNKVCDJv"
   },
   "outputs": [
    {
     "name": "stdout",
     "output_type": "stream",
     "text": [
      "+-------+-------+\n",
      "|  genre|  count|\n",
      "+-------+-------+\n",
      "|    pop|1544747|\n",
      "|hip hop| 532984|\n",
      "|  metal| 208107|\n",
      "|   rock|2691934|\n",
      "+-------+-------+\n",
      "\n"
     ]
    }
   ],
   "source": [
    "q9 = inner.select('genre').filter(inner.genre.isin(genres)).groupby('genre').agg(count('genre').alias('count'))\n",
    "q9.show()"
   ]
  },
  {
   "cell_type": "markdown",
   "metadata": {
    "colab_type": "text",
    "id": "h0h2SSk8InMH"
   },
   "source": [
    "Now, let's visualize the results using ***matplotlib***"
   ]
  },
  {
   "cell_type": "code",
   "execution_count": 74,
   "metadata": {
    "colab": {},
    "colab_type": "code",
    "id": "J-n8gOC0Imj5"
   },
   "outputs": [],
   "source": [
    "q9_list = q9.collect()"
   ]
  },
  {
   "cell_type": "code",
   "execution_count": 76,
   "metadata": {
    "colab": {},
    "colab_type": "code",
    "id": "CMigHLrEQgKv"
   },
   "outputs": [],
   "source": [
    "labels = [row['genre'] for row in q9_list]\n",
    "counts = [row['count'] for row in q9_list]"
   ]
  },
  {
   "cell_type": "markdown",
   "metadata": {
    "colab_type": "text",
    "id": "1iDrvEwYQ4AE"
   },
   "source": [
    "now lets visualize these two lists using a bar chart"
   ]
  },
  {
   "cell_type": "code",
   "execution_count": 78,
   "metadata": {
    "colab": {},
    "colab_type": "code",
    "id": "FYLE4Mbu_Lbu"
   },
   "outputs": [
    {
     "data": {
      "image/png": "[encoded data removed]",
      "text/plain": [
       "<Figure size 432x288 with 1 Axes>"
      ]
     },
     "metadata": {
      "needs_background": "light"
     },
     "output_type": "display_data"
    }
   ],
   "source": [
    "plt.bar(labels, counts)\n",
    "plt.show()"
   ]
  }
 ],
 "metadata": {
  "colab": {
   "collapsed_sections": [],
   "name": "The_Notebook.ipynb",
   "provenance": []
  },
  "kernelspec": {
   "display_name": "Python 3",
   "language": "python",
   "name": "python3"
  },
  "language_info": {
   "codemirror_mode": {
    "name": "ipython",
    "version": 3
   },
   "file_extension": ".py",
   "mimetype": "text/x-python",
   "name": "python",
   "nbconvert_exporter": "python",
   "pygments_lexer": "ipython3",
   "version": "3.8.5"
  }
 },
 "nbformat": 4,
 "nbformat_minor": 4
}
